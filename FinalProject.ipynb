{
  "nbformat": 4,
  "nbformat_minor": 0,
  "metadata": {
    "colab": {
      "name": "FinalProject.ipynb",
      "provenance": [],
      "collapsed_sections": [],
      "mount_file_id": "1qCHPqUlFKZ-HRAmZPnQQcGSVVvMaKOly",
      "authorship_tag": "ABX9TyM3ChZ4pU0y4aYckhNgH/rF",
      "include_colab_link": true
    },
    "kernelspec": {
      "name": "python3",
      "display_name": "Python 3"
    },
    "language_info": {
      "name": "python"
    },
    "accelerator": "GPU"
  },
  "cells": [
    {
      "cell_type": "markdown",
      "metadata": {
        "id": "view-in-github",
        "colab_type": "text"
      },
      "source": [
        "<a href=\"https://colab.research.google.com/github/quinnalfaro/oConnorProject1/blob/main/FinalProject.ipynb\" target=\"_parent\"><img src=\"https://colab.research.google.com/assets/colab-badge.svg\" alt=\"Open In Colab\"/></a>"
      ]
    },
    {
      "cell_type": "code",
      "metadata": {
        "id": "0-6ieOzoxWFg"
      },
      "source": [
        "import pandas as pd\n",
        "import numpy as np\n",
        "import torch\n",
        "import torchvision\n",
        "import matplotlib.pyplot as plt\n",
        "import albumentations as A\n",
        "from sklearn.model_selection import train_test_split"
      ],
      "execution_count": 1,
      "outputs": []
    },
    {
      "cell_type": "markdown",
      "metadata": {
        "id": "-TOE9oWVpqxe"
      },
      "source": [
        "# Read in data\n",
        "Because this is a Kaggle competition I made my df_val from splitting it off of the entire training dataframe."
      ]
    },
    {
      "cell_type": "code",
      "metadata": {
        "id": "RS9uJV4T2Rf9"
      },
      "source": [
        "df_train = pd.read_csv('/content/drive/MyDrive/FinalProjectData/training.csv')\n",
        "df_train = df_train.dropna()\n",
        "# For the purposes of testing out the model I've split the training dataset to make test and val\n",
        "df_train, df_val = train_test_split(df_train, test_size=0.2)\n",
        "#df_val = pd.read_csv('/content/drive/MyDrive/FinalProjectData/test.csv')"
      ],
      "execution_count": 2,
      "outputs": []
    },
    {
      "cell_type": "markdown",
      "metadata": {
        "id": "8K8smSEWYdjq"
      },
      "source": [
        "# Modified Digits data Class for CNN\n",
        "\n",
        "Here we change the data to be in the shape of 1x96x96 as it is a black and white image. We initialize the dataset and then ad the get item function to easily and quickly pull data from the dataset"
      ]
    },
    {
      "cell_type": "code",
      "metadata": {
        "id": "prVUzEyD2kfz"
      },
      "source": [
        "class DigitsDataset(torch.utils.data.Dataset):\n",
        "    def __init__(self, df):\n",
        "        self.df = df\n",
        "        \n",
        "    def __len__(self):\n",
        "        return len(self.df)\n",
        "    \n",
        "    def __getitem__(self, idx):\n",
        "        row = self.df.iloc[idx]\n",
        "        \n",
        "\n",
        "        x = row['Image'].split()\n",
        "\n",
        "        x = np.float32(np.array(x))\n",
        "        # Changing shape is only mod needed for cnn, Change 1 to 3 for color\n",
        "        x = np.reshape(x, (1, 96,96))\n",
        "\n",
        "        # Turn into numpy array\n",
        "        y = np.float32(row[:30].values)\n",
        "        return x, y"
      ],
      "execution_count": 3,
      "outputs": []
    },
    {
      "cell_type": "markdown",
      "metadata": {
        "id": "ZMRN0e87GoOE"
      },
      "source": [
        "## Creating instance of dataset and creating dataloader"
      ]
    },
    {
      "cell_type": "code",
      "metadata": {
        "id": "Y4nCxiOab3hg"
      },
      "source": [
        "dataset_train = DigitsDataset(df_train)\n",
        "dataset_val = DigitsDataset(df_val)\n",
        "\n",
        "dataloader_train = torch.utils.data.DataLoader(dataset_train, batch_size = 64, shuffle = True)\n",
        "dataloader_val = torch.utils.data.DataLoader(dataset_val, batch_size = 64, shuffle = True)"
      ],
      "execution_count": 4,
      "outputs": []
    },
    {
      "cell_type": "markdown",
      "metadata": {
        "id": "gsprc97tGtFG"
      },
      "source": [
        "# Quick test\n",
        "Here we have a quick test to make sure our dataloader is working and outputting the image as we want."
      ]
    },
    {
      "cell_type": "code",
      "metadata": {
        "colab": {
          "base_uri": "https://localhost:8080/",
          "height": 336
        },
        "id": "sMK1-xrurmct",
        "outputId": "da37aea3-4d44-4f9c-ee09-06ebe0a5e834"
      },
      "source": [
        "X_batch, Y_batch = next(iter(dataloader_train))\n",
        "plt.imshow(X_batch[0][0],cmap='gray')\n",
        "Y_batch[0]"
      ],
      "execution_count": 5,
      "outputs": [
        {
          "output_type": "execute_result",
          "data": {
            "text/plain": [
              "tensor([69.2335, 40.0215, 25.5508, 38.0719, 60.2627, 40.0215, 76.2545, 40.4116,\n",
              "        33.3513, 38.4620, 17.7495, 38.8521, 59.4833, 28.3209, 83.3376, 33.2876,\n",
              "        35.3009, 25.9811, 11.8996, 28.3209, 45.8321, 60.3028, 62.2132, 81.3644,\n",
              "        29.4511, 81.3644, 46.6124, 76.6848, 45.8321, 93.4560])"
            ]
          },
          "metadata": {
            "tags": []
          },
          "execution_count": 5
        },
        {
          "output_type": "display_data",
          "data": {
            "image/png": "[encoded data removed]",
            "text/plain": [
              "<Figure size 432x288 with 1 Axes>"
            ]
          },
          "metadata": {
            "tags": [],
            "needs_background": "light"
          }
        }
      ]
    },
    {
      "cell_type": "markdown",
      "metadata": {
        "id": "WwGShAUrG6ZT"
      },
      "source": [
        "## Simple Convelutional Neuralnet\n",
        "Here we create the neural network object and add all of the necesary layers \n",
        "\n",
        "I found personally that having the first convelution be 1x32x3 gave the best results and lowest loss without overfitting. All of the following layers followed on suite. "
      ]
    },
    {
      "cell_type": "code",
      "metadata": {
        "id": "6s8CZsw2bgg_"
      },
      "source": [
        "class SimpleCNN(torch.nn.Module):\n",
        "    def __init__(self):\n",
        "        \n",
        "        super().__init__()\n",
        "\n",
        "        # Convelutional Layers\n",
        "        self.conv1 = torch.nn.Conv2d(1,32,3)\n",
        "        self.conv2 = torch.nn.Conv2d(32,64,3)\n",
        "        # Dense Layer\n",
        "        self.dense1 = torch.nn.Linear(30976,30)\n",
        "\n",
        "        # Max Pool Layer\n",
        "        self.pool = torch.nn.MaxPool2d(2)\n",
        "        #Flattens conv2 into 1d array\n",
        "        self.flatten = torch.nn.Flatten()\n",
        "        self.ReLU = torch.nn.ReLU()\n",
        "        \n",
        "    def forward(self, x):\n",
        "\n",
        "        #First Convelution \n",
        "        x = self.conv1(x)\n",
        "        x = self.ReLU(x)\n",
        "        x = self.pool(x)\n",
        "\n",
        "        #Second Convelution \n",
        "        x = self.conv2(x)\n",
        "        x = self.ReLU(x)\n",
        "        x = self.pool(x)\n",
        "\n",
        "        #Changes to 1D long array\n",
        "        x = self.flatten(x)\n",
        "        #Turns into correct size\n",
        "        x = self.dense1(x)\n",
        "\n",
        "        \n",
        "        return x"
      ],
      "execution_count": 9,
      "outputs": []
    },
    {
      "cell_type": "markdown",
      "metadata": {
        "id": "Z3bUnzMaqA7M"
      },
      "source": [
        "# Create instance of the model\n",
        "\n",
        "Because this is a regression style problem I chose a higher learning rate which I found gave much better results."
      ]
    },
    {
      "cell_type": "code",
      "metadata": {
        "id": "jniY8TGxLZeh"
      },
      "source": [
        "model = SimpleCNN()\n",
        "device = torch.device('cuda')\n",
        "model = model.to(device)\n",
        "\n",
        "loss_fun = torch.nn.MSELoss()\n",
        "optimizer = torch.optim.Adam(model.parameters(), lr = 0.1)"
      ],
      "execution_count": 21,
      "outputs": []
    },
    {
      "cell_type": "markdown",
      "metadata": {
        "id": "ntK6MA3zqD9n"
      },
      "source": [
        "# Train model\n",
        "\n",
        "I then train the model and test the loss on the validation dataset. Because this is a regression style model, I used torch's Mean squared error functionality to measure the loss. After going through trial and error of different numbers of epochs (*as seen in the graphs below*) I landed on 5 epochs. "
      ]
    },
    {
      "cell_type": "code",
      "metadata": {
        "colab": {
          "base_uri": "https://localhost:8080/"
        },
        "id": "eq5KVZp3Zf_0",
        "outputId": "f59e43ad-5128-4df0-e2d3-c9470c8b65fd"
      },
      "source": [
        "num_epochs = 10\n",
        "N_train = len(dataset_train)\n",
        "N_val = len(dataset_val)\n",
        "\n",
        "train_losses = []\n",
        "val_losses = []\n",
        "\n",
        "for ep in range(num_epochs):\n",
        "\n",
        "    model.train()\n",
        "    train_loss = 0.0\n",
        "    batch_idx = 0\n",
        "    \n",
        "    for X_batch, Y_batch in dataloader_train:\n",
        "        \n",
        "        X_batch = X_batch.to(device)\n",
        "        Y_batch = Y_batch.to(device)\n",
        "        \n",
        "        N_batch = X_batch.shape[0]\n",
        "        outputs = model(X_batch)\n",
        "        loss_oneBatch = loss_fun(outputs, Y_batch)\n",
        "        \n",
        "        model.zero_grad()\n",
        "        loss_oneBatch.backward()\n",
        "        optimizer.step()\n",
        "        \n",
        "        train_loss += loss_oneBatch*N_batch\n",
        "        \n",
        "    model.eval()\n",
        "    val_loss = 0.0\n",
        "    for X_batch, Y_batch in dataloader_val:\n",
        "        X_batch = X_batch.to(device)\n",
        "        Y_batch = Y_batch.to(device)\n",
        "        \n",
        "        with torch.no_grad():\n",
        "            \n",
        "            N_batch = X_batch.shape[0]\n",
        "            outputs = model(X_batch)\n",
        "            loss_oneBatch = loss_fun(outputs, Y_batch)\n",
        "            val_loss += loss_oneBatch*N_batch\n",
        "            \n",
        "    train_losses.append(train_loss/N_train)\n",
        "    val_losses.append(val_loss/N_val)\n",
        "    \n",
        "    print('epoch: ', ep, 'train loss: ', train_loss/N_train, 'validation loss: ', val_loss/N_val)"
      ],
      "execution_count": 22,
      "outputs": [
        {
          "output_type": "stream",
          "text": [
            "epoch:  0 train loss:  tensor(3.1975e+10, device='cuda:0', grad_fn=<DivBackward0>) validation loss:  tensor(86.7408, device='cuda:0')\n",
            "epoch:  1 train loss:  tensor(33.4479, device='cuda:0', grad_fn=<DivBackward0>) validation loss:  tensor(16.7027, device='cuda:0')\n",
            "epoch:  2 train loss:  tensor(11.6158, device='cuda:0', grad_fn=<DivBackward0>) validation loss:  tensor(10.7808, device='cuda:0')\n",
            "epoch:  3 train loss:  tensor(10.3866, device='cuda:0', grad_fn=<DivBackward0>) validation loss:  tensor(11.0534, device='cuda:0')\n",
            "epoch:  4 train loss:  tensor(10.4350, device='cuda:0', grad_fn=<DivBackward0>) validation loss:  tensor(10.6560, device='cuda:0')\n",
            "epoch:  5 train loss:  tensor(10.4723, device='cuda:0', grad_fn=<DivBackward0>) validation loss:  tensor(10.6460, device='cuda:0')\n",
            "epoch:  6 train loss:  tensor(10.2599, device='cuda:0', grad_fn=<DivBackward0>) validation loss:  tensor(10.6835, device='cuda:0')\n",
            "epoch:  7 train loss:  tensor(10.2841, device='cuda:0', grad_fn=<DivBackward0>) validation loss:  tensor(10.7109, device='cuda:0')\n",
            "epoch:  8 train loss:  tensor(10.5388, device='cuda:0', grad_fn=<DivBackward0>) validation loss:  tensor(10.7968, device='cuda:0')\n",
            "epoch:  9 train loss:  tensor(10.5925, device='cuda:0', grad_fn=<DivBackward0>) validation loss:  tensor(10.6196, device='cuda:0')\n"
          ],
          "name": "stdout"
        }
      ]
    },
    {
      "cell_type": "markdown",
      "metadata": {
        "id": "IFxgUA7rKKC2"
      },
      "source": [
        "# Plotting the loss vs epoch\n",
        "\n",
        "In the following plots we see that following the first epoch, which lead to a drop a drop in loss from 3.1975e+10 to 30, the training loss around 5 epochs tends to steady out. This also holds true for the validation loss. Because of this steep drop followed by a steading out, I decided to cap the number of epochs at 5. This would mean not only that there would be less to run and make the model less expensive, but also would avoid running the risk of overfitting that could come with having too many epochs. The following three graphs show first loss vs the number of epochs with a sort of zooming in on later epochs to show the true affect that they were having. One can see following the first big dropoff is graph one, that loss hovers between 10 and 12 for both."
      ]
    },
    {
      "cell_type": "markdown",
      "metadata": {
        "id": "SXUQBHbgMF1W"
      },
      "source": [
        "### All 10 epochs and loss"
      ]
    },
    {
      "cell_type": "code",
      "metadata": {
        "colab": {
          "base_uri": "https://localhost:8080/",
          "height": 298
        },
        "id": "3MlCMtUyHo1E",
        "outputId": "1a11cb02-8901-4e99-9d00-f49333752c30"
      },
      "source": [
        "plt.plot(train_losses, label = 'training loss')\n",
        "plt.plot(val_losses, label = 'validation loss')\n",
        "\n",
        "plt.legend(loc = 'upper right')\n",
        "plt.title('Objective function value value versus epoch')"
      ],
      "execution_count": 25,
      "outputs": [
        {
          "output_type": "execute_result",
          "data": {
            "text/plain": [
              "Text(0.5, 1.0, 'Objective function value value versus epoch')"
            ]
          },
          "metadata": {
            "tags": []
          },
          "execution_count": 25
        },
        {
          "output_type": "display_data",
          "data": {
            "image/png": "[encoded data removed]",
            "text/plain": [
              "<Figure size 432x288 with 1 Axes>"
            ]
          },
          "metadata": {
            "tags": [],
            "needs_background": "light"
          }
        }
      ]
    },
    {
      "cell_type": "markdown",
      "metadata": {
        "id": "PZQRMQ38MLI2"
      },
      "source": [
        "### Removing the first epoch\n",
        "\n",
        "To see closer the loss in the following 9 epochs we remove the first and see an evening out"
      ]
    },
    {
      "cell_type": "code",
      "metadata": {
        "colab": {
          "base_uri": "https://localhost:8080/",
          "height": 298
        },
        "id": "CW2zTGSxIHCU",
        "outputId": "1126c22a-bc4c-4d9b-ed5a-6529119d1443"
      },
      "source": [
        "plt.plot(train_losses[1:], label = 'training loss')\n",
        "plt.plot(val_losses[1:], label = 'validation loss')\n",
        "\n",
        "plt.legend(loc = 'upper right')\n",
        "plt.title('Objective function value value versus epoch')"
      ],
      "execution_count": 26,
      "outputs": [
        {
          "output_type": "execute_result",
          "data": {
            "text/plain": [
              "Text(0.5, 1.0, 'Objective function value value versus epoch')"
            ]
          },
          "metadata": {
            "tags": []
          },
          "execution_count": 26
        },
        {
          "output_type": "display_data",
          "data": {
            "image/png": "[encoded data removed]",
            "text/plain": [
              "<Figure size 432x288 with 1 Axes>"
            ]
          },
          "metadata": {
            "tags": [],
            "needs_background": "light"
          }
        }
      ]
    },
    {
      "cell_type": "markdown",
      "metadata": {
        "id": "95X6ITjJMfwS"
      },
      "source": [
        "### Removing now the first two epochs\n",
        "\n",
        "We see that following the fourth epoch the loss for both the trainging and the validation completely evens out and just bounces around between 10 and 11."
      ]
    },
    {
      "cell_type": "code",
      "metadata": {
        "colab": {
          "base_uri": "https://localhost:8080/",
          "height": 298
        },
        "id": "OIJR_hArJ7OM",
        "outputId": "b9c77b0e-8aec-429f-d262-15c5a4e149d8"
      },
      "source": [
        "plt.plot(train_losses[2:], label = 'training loss')\n",
        "plt.plot(val_losses[2:], label = 'validation loss')\n",
        "\n",
        "plt.legend(loc = 'upper right')\n",
        "plt.title('Objective function value value versus epoch')"
      ],
      "execution_count": 27,
      "outputs": [
        {
          "output_type": "execute_result",
          "data": {
            "text/plain": [
              "Text(0.5, 1.0, 'Objective function value value versus epoch')"
            ]
          },
          "metadata": {
            "tags": []
          },
          "execution_count": 27
        },
        {
          "output_type": "display_data",
          "data": {
            "image/png": "[encoded data removed]",
            "text/plain": [
              "<Figure size 432x288 with 1 Axes>"
            ]
          },
          "metadata": {
            "tags": [],
            "needs_background": "light"
          }
        }
      ]
    },
    {
      "cell_type": "markdown",
      "metadata": {
        "id": "7EXZqn0UM37J"
      },
      "source": [
        "# PART #2 \n",
        "\n",
        "## Using a pretrained resnet model \n",
        "\n",
        "We slightly change the dataset class and now add the **augment_data** boolean option when initializing the data, so if one would like to augment the data, they can in fact do so. "
      ]
    },
    {
      "cell_type": "code",
      "metadata": {
        "id": "WSW6hUINQ4em"
      },
      "source": [
        "class DigitsDatasetForRGB(torch.utils.data.Dataset):\n",
        "    def __init__(self, df, augment_data = False):\n",
        "        self.df = df\n",
        "        self.augment_data = augment_data\n",
        "\n",
        "        if augment_data:\n",
        "          self.transform = A.Compose([\n",
        "              A.GridDistortion(),\n",
        "              A.Rotate(limit = 20, p = 0.5),\n",
        "              A.Normalize(mean = (0.485, 0.456, 0.406), std=(0.229,0.224,0.225))\n",
        "          ])\n",
        "        else:\n",
        "          self.transform = A.Compose([A.Normalize(mean = (0.485, 0.456, 0.406), std=(0.229,0.224,0.225))])\n",
        "\n",
        "        \n",
        "    def __len__(self):\n",
        "        return len(self.df)\n",
        "    \n",
        "    def __getitem__(self, idx):\n",
        "        row = self.df.iloc[idx]\n",
        "        \n",
        "\n",
        "        x = row['Image'].split()\n",
        "\n",
        "        x = np.float32(np.array(x))\n",
        "        x = np.reshape(x, (96,96))\n",
        "        # Changing shape is and stacking image is needed for rgb images in resnet\n",
        "        ## Axis = 2 for data augmentation\n",
        "        x = np.stack((x,x,x), axis=2)\n",
        "\n",
        "        # Transform!\n",
        "        x = self.transform(image = x)['image']\n",
        "\n",
        "        #Change shape back\n",
        "        x = np.transpose(x, (2,0,1))\n",
        "\n",
        "        # Turn into numpy array\n",
        "        y = np.float32(row[:29].values)\n",
        "        # Updated torch.float to torch.long <--- MESSES UP RESNET\n",
        "        #y = torch.tensor(y,dtype=torch.long)\n",
        "        return x, y"
      ],
      "execution_count": 69,
      "outputs": []
    },
    {
      "cell_type": "code",
      "metadata": {
        "id": "kO8rn0o5Stlr"
      },
      "source": [
        "dataset_train = DigitsDatasetForRGB(df_train)\n",
        "dataset_val = DigitsDatasetForRGB(df_val)\n",
        "\n",
        "dataloader_train = torch.utils.data.DataLoader(dataset_train, batch_size = 64, shuffle = True)\n",
        "dataloader_val = torch.utils.data.DataLoader(dataset_val, batch_size = 64, shuffle = True)"
      ],
      "execution_count": 58,
      "outputs": []
    },
    {
      "cell_type": "markdown",
      "metadata": {
        "id": "9WOUCFysQRk0"
      },
      "source": [
        "### Creating and modifying Resnet\n",
        "\n",
        "Here we not only create the model but modify the final layer to have 30 outfeatures to match the 30 classes we are trying to predict through our regression style model."
      ]
    },
    {
      "cell_type": "code",
      "metadata": {
        "id": "rkiPnUMsKyKp"
      },
      "source": [
        "#For resnet\n",
        "model = torchvision.models.resnet18(pretrained = True)\n",
        "model.fc = torch.nn.Linear(in_features=512, out_features=29)\n",
        "\n",
        "device = torch.device('cuda')\n",
        "model = model.to(device)\n",
        "\n",
        "loss_fun = torch.nn.MSELoss()\n",
        "optimizer = torch.optim.Adam(model.parameters(), lr = 0.001)"
      ],
      "execution_count": 59,
      "outputs": []
    },
    {
      "cell_type": "code",
      "metadata": {
        "colab": {
          "base_uri": "https://localhost:8080/"
        },
        "id": "TptRctHPS4Cm",
        "outputId": "717edc56-fb9f-4a75-be92-76db26217dc2"
      },
      "source": [
        "num_epochs = 10\n",
        "N_train = len(dataset_train)\n",
        "N_val = len(dataset_val)\n",
        "\n",
        "train_losses = []\n",
        "val_losses = []\n",
        "\n",
        "for ep in range(num_epochs):\n",
        "\n",
        "    model.train()\n",
        "    train_loss = 0.0\n",
        "    batch_idx = 0\n",
        "    \n",
        "    for X_batch, Y_batch in dataloader_train:\n",
        "        \n",
        "        X_batch = X_batch.to(device)\n",
        "        Y_batch = Y_batch.to(device)\n",
        "        \n",
        "        N_batch = X_batch.shape[0]\n",
        "        outputs = model(X_batch)\n",
        "        loss_oneBatch = loss_fun(outputs, Y_batch)\n",
        "        \n",
        "        model.zero_grad()\n",
        "        loss_oneBatch.backward()\n",
        "        optimizer.step()\n",
        "        \n",
        "        train_loss += loss_oneBatch*N_batch\n",
        "        \n",
        "    model.eval()\n",
        "    val_loss = 0.0\n",
        "    for X_batch, Y_batch in dataloader_val:\n",
        "        X_batch = X_batch.to(device)\n",
        "        Y_batch = Y_batch.to(device)\n",
        "        \n",
        "        with torch.no_grad():\n",
        "            \n",
        "            N_batch = X_batch.shape[0]\n",
        "            outputs = model(X_batch)\n",
        "            loss_oneBatch = loss_fun(outputs, Y_batch)\n",
        "            val_loss += loss_oneBatch*N_batch\n",
        "            \n",
        "    train_losses.append(train_loss/N_train)\n",
        "    val_losses.append(val_loss/N_val)\n",
        "    \n",
        "    print('epoch: ', ep, 'train loss: ', train_loss/N_train, 'validation loss: ', val_loss/N_val)"
      ],
      "execution_count": 60,
      "outputs": [
        {
          "output_type": "stream",
          "text": [
            "epoch:  0 train loss:  tensor(1812.8149, device='cuda:0', grad_fn=<DivBackward0>) validation loss:  tensor(789.5609, device='cuda:0')\n",
            "epoch:  1 train loss:  tensor(734.4547, device='cuda:0', grad_fn=<DivBackward0>) validation loss:  tensor(313.6876, device='cuda:0')\n",
            "epoch:  2 train loss:  tensor(242.1259, device='cuda:0', grad_fn=<DivBackward0>) validation loss:  tensor(96.6223, device='cuda:0')\n",
            "epoch:  3 train loss:  tensor(68.3949, device='cuda:0', grad_fn=<DivBackward0>) validation loss:  tensor(28.7077, device='cuda:0')\n",
            "epoch:  4 train loss:  tensor(19.6327, device='cuda:0', grad_fn=<DivBackward0>) validation loss:  tensor(11.6147, device='cuda:0')\n",
            "epoch:  5 train loss:  tensor(9.8117, device='cuda:0', grad_fn=<DivBackward0>) validation loss:  tensor(11.4351, device='cuda:0')\n",
            "epoch:  6 train loss:  tensor(8.3672, device='cuda:0', grad_fn=<DivBackward0>) validation loss:  tensor(12.9709, device='cuda:0')\n",
            "epoch:  7 train loss:  tensor(8.1901, device='cuda:0', grad_fn=<DivBackward0>) validation loss:  tensor(12.3901, device='cuda:0')\n",
            "epoch:  8 train loss:  tensor(8.1113, device='cuda:0', grad_fn=<DivBackward0>) validation loss:  tensor(15.2093, device='cuda:0')\n",
            "epoch:  9 train loss:  tensor(7.6299, device='cuda:0', grad_fn=<DivBackward0>) validation loss:  tensor(12.6340, device='cuda:0')\n"
          ],
          "name": "stdout"
        }
      ]
    },
    {
      "cell_type": "code",
      "metadata": {
        "colab": {
          "base_uri": "https://localhost:8080/",
          "height": 298
        },
        "id": "YPsReIikVi2K",
        "outputId": "283ec807-53e6-4b3b-fcc9-fc93ea7d2f89"
      },
      "source": [
        "plt.plot(train_losses, label = 'training loss')\n",
        "plt.plot(val_losses, label = 'validation loss')\n",
        "\n",
        "plt.legend(loc = 'upper right')\n",
        "plt.title('Objective function value value versus epoch')"
      ],
      "execution_count": 61,
      "outputs": [
        {
          "output_type": "execute_result",
          "data": {
            "text/plain": [
              "Text(0.5, 1.0, 'Objective function value value versus epoch')"
            ]
          },
          "metadata": {
            "tags": []
          },
          "execution_count": 61
        },
        {
          "output_type": "display_data",
          "data": {
            "image/png": "[encoded data removed]",
            "text/plain": [
              "<Figure size 432x288 with 1 Axes>"
            ]
          },
          "metadata": {
            "tags": [],
            "needs_background": "light"
          }
        }
      ]
    },
    {
      "cell_type": "code",
      "metadata": {
        "colab": {
          "base_uri": "https://localhost:8080/",
          "height": 298
        },
        "id": "RhetEzAxYabB",
        "outputId": "e66be530-2191-4aa7-bdca-ef2cb16d970b"
      },
      "source": [
        "plt.plot(train_losses[4:], label = 'training loss')\n",
        "plt.plot(val_losses[4:], label = 'validation loss')\n",
        "\n",
        "plt.legend(loc = 'upper right')\n",
        "plt.title('Objective function value value versus epoch')"
      ],
      "execution_count": 64,
      "outputs": [
        {
          "output_type": "execute_result",
          "data": {
            "text/plain": [
              "Text(0.5, 1.0, 'Objective function value value versus epoch')"
            ]
          },
          "metadata": {
            "tags": []
          },
          "execution_count": 64
        },
        {
          "output_type": "display_data",
          "data": {
            "image/png": "[encoded data removed]",
            "text/plain": [
              "<Figure size 432x288 with 1 Axes>"
            ]
          },
          "metadata": {
            "tags": [],
            "needs_background": "light"
          }
        }
      ]
    },
    {
      "cell_type": "markdown",
      "metadata": {
        "id": "YVFtXYXIYweX"
      },
      "source": [
        "# Part #3 Data Augmentation!"
      ]
    },
    {
      "cell_type": "code",
      "metadata": {
        "id": "p8Ne2_rbfxH7"
      },
      "source": [
        "dataset_train = DigitsDatasetForRGB(df_train, True)\n",
        "dataset_val = DigitsDatasetForRGB(df_val, True)\n",
        "\n",
        "dataloader_train = torch.utils.data.DataLoader(dataset_train, batch_size = 64, shuffle = True)\n",
        "dataloader_val = torch.utils.data.DataLoader(dataset_val, batch_size = 64, shuffle = True)"
      ],
      "execution_count": 70,
      "outputs": []
    },
    {
      "cell_type": "code",
      "metadata": {
        "id": "z28pY72zfsSp"
      },
      "source": [
        "#For resnet\n",
        "model = torchvision.models.resnet18(pretrained = True)\n",
        "model.fc = torch.nn.Linear(in_features=512, out_features=29)\n",
        "\n",
        "device = torch.device('cuda')\n",
        "model = model.to(device)\n",
        "\n",
        "loss_fun = torch.nn.MSELoss()\n",
        "optimizer = torch.optim.Adam(model.parameters(), lr = 0.001)"
      ],
      "execution_count": 71,
      "outputs": []
    },
    {
      "cell_type": "code",
      "metadata": {
        "colab": {
          "base_uri": "https://localhost:8080/"
        },
        "id": "HaNG82R8fs-K",
        "outputId": "e681194a-c2f5-4d4a-b64a-29b58724c225"
      },
      "source": [
        "num_epochs = 10\n",
        "N_train = len(dataset_train)\n",
        "N_val = len(dataset_val)\n",
        "\n",
        "train_losses = []\n",
        "val_losses = []\n",
        "\n",
        "for ep in range(num_epochs):\n",
        "\n",
        "    model.train()\n",
        "    train_loss = 0.0\n",
        "    batch_idx = 0\n",
        "    \n",
        "    for X_batch, Y_batch in dataloader_train:\n",
        "        \n",
        "        X_batch = X_batch.to(device)\n",
        "        Y_batch = Y_batch.to(device)\n",
        "        \n",
        "        N_batch = X_batch.shape[0]\n",
        "        outputs = model(X_batch)\n",
        "        loss_oneBatch = loss_fun(outputs, Y_batch)\n",
        "        \n",
        "        model.zero_grad()\n",
        "        loss_oneBatch.backward()\n",
        "        optimizer.step()\n",
        "        \n",
        "        train_loss += loss_oneBatch*N_batch\n",
        "        \n",
        "    model.eval()\n",
        "    val_loss = 0.0\n",
        "    for X_batch, Y_batch in dataloader_val:\n",
        "        X_batch = X_batch.to(device)\n",
        "        Y_batch = Y_batch.to(device)\n",
        "        \n",
        "        with torch.no_grad():\n",
        "            \n",
        "            N_batch = X_batch.shape[0]\n",
        "            outputs = model(X_batch)\n",
        "            loss_oneBatch = loss_fun(outputs, Y_batch)\n",
        "            val_loss += loss_oneBatch*N_batch\n",
        "            \n",
        "    train_losses.append(train_loss/N_train)\n",
        "    val_losses.append(val_loss/N_val)\n",
        "    \n",
        "    print('epoch: ', ep, 'train loss: ', train_loss/N_train, 'validation loss: ', val_loss/N_val)"
      ],
      "execution_count": 72,
      "outputs": [
        {
          "output_type": "stream",
          "text": [
            "epoch:  0 train loss:  tensor(1808.2867, device='cuda:0', grad_fn=<DivBackward0>) validation loss:  tensor(913.7388, device='cuda:0')\n",
            "epoch:  1 train loss:  tensor(727.2653, device='cuda:0', grad_fn=<DivBackward0>) validation loss:  tensor(323.3917, device='cuda:0')\n",
            "epoch:  2 train loss:  tensor(235.0319, device='cuda:0', grad_fn=<DivBackward0>) validation loss:  tensor(100.8479, device='cuda:0')\n",
            "epoch:  3 train loss:  tensor(64.5252, device='cuda:0', grad_fn=<DivBackward0>) validation loss:  tensor(32.1496, device='cuda:0')\n",
            "epoch:  4 train loss:  tensor(18.6240, device='cuda:0', grad_fn=<DivBackward0>) validation loss:  tensor(11.9970, device='cuda:0')\n",
            "epoch:  5 train loss:  tensor(9.9679, device='cuda:0', grad_fn=<DivBackward0>) validation loss:  tensor(9.9740, device='cuda:0')\n",
            "epoch:  6 train loss:  tensor(8.7980, device='cuda:0', grad_fn=<DivBackward0>) validation loss:  tensor(14.2944, device='cuda:0')\n",
            "epoch:  7 train loss:  tensor(8.5241, device='cuda:0', grad_fn=<DivBackward0>) validation loss:  tensor(18.9756, device='cuda:0')\n",
            "epoch:  8 train loss:  tensor(8.2774, device='cuda:0', grad_fn=<DivBackward0>) validation loss:  tensor(18.5625, device='cuda:0')\n",
            "epoch:  9 train loss:  tensor(7.8456, device='cuda:0', grad_fn=<DivBackward0>) validation loss:  tensor(11.6804, device='cuda:0')\n"
          ],
          "name": "stdout"
        }
      ]
    },
    {
      "cell_type": "code",
      "metadata": {
        "colab": {
          "base_uri": "https://localhost:8080/",
          "height": 298
        },
        "id": "P8IxUme2gH6y",
        "outputId": "8e2df1fb-138d-4b91-8c5f-5c7a977745ca"
      },
      "source": [
        "plt.plot(train_losses, label = 'training loss')\n",
        "plt.plot(val_losses, label = 'validation loss')\n",
        "\n",
        "plt.legend(loc = 'upper right')\n",
        "plt.title('Objective function value value versus epoch')"
      ],
      "execution_count": 73,
      "outputs": [
        {
          "output_type": "execute_result",
          "data": {
            "text/plain": [
              "Text(0.5, 1.0, 'Objective function value value versus epoch')"
            ]
          },
          "metadata": {
            "tags": []
          },
          "execution_count": 73
        },
        {
          "output_type": "display_data",
          "data": {
            "image/png": "[encoded data removed]",
            "text/plain": [
              "<Figure size 432x288 with 1 Axes>"
            ]
          },
          "metadata": {
            "tags": [],
            "needs_background": "light"
          }
        }
      ]
    },
    {
      "cell_type": "code",
      "metadata": {
        "id": "GxXHMwu7gINw"
      },
      "source": [
        ""
      ],
      "execution_count": null,
      "outputs": []
    }
  ]
}