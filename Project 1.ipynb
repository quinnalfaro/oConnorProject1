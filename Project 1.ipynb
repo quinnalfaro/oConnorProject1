{
 "cells": [
  {
   "cell_type": "code",
   "execution_count": 471,
   "metadata": {},
   "outputs": [],
   "source": [
    "import pandas as pd\n",
    "import numpy as np\n",
    "from sklearn.datasets import load_diabetes\n",
    "from sklearn.preprocessing import StandardScaler\n",
    "from sklearn.model_selection import train_test_split\n",
    "from sklearn import preprocessing\n",
    "\n",
    "import matplotlib.pyplot as plt"
   ]
  },
  {
   "cell_type": "markdown",
   "metadata": {},
   "source": [
    "# Linear Regression"
   ]
  },
  {
   "cell_type": "markdown",
   "metadata": {},
   "source": [
    "## Load in Data"
   ]
  },
  {
   "cell_type": "code",
   "execution_count": 77,
   "metadata": {},
   "outputs": [],
   "source": [
    "diabetes = load_diabetes()\n",
    "diabetesX = diabetes.data\n",
    "diabetesY = diabetes.target"
   ]
  },
  {
   "cell_type": "markdown",
   "metadata": {},
   "source": [
    "## Math notes\n",
    "**L(b) = 1/2n ||Xb - y||^2**\n",
    "\n",
    "b <- vector with beta coefficients \n",
    "\n",
    "X <- Matrix with n rows and d+1 columns, each row of X is augmented feature vector (1 at beginning of vector)\n",
    "\n",
    "y <- A vector with all target values\n",
    "\n",
    "\n",
    "**L'(b) = 1/n X^T (Xb - y) = 0** =\n",
    "\n",
    "X^T Xb = X^T y    <- solve for beta and then `BAM` we're there baby"
   ]
  },
  {
   "cell_type": "markdown",
   "metadata": {},
   "source": [
    "# Deriving regression as done above"
   ]
  },
  {
   "cell_type": "code",
   "execution_count": 92,
   "metadata": {},
   "outputs": [],
   "source": [
    "# Each row of diabetesX is an augmented feature vector \n",
    "#   Side note though this does remove the sex column if you run a pandas .corr() you see there is almost \n",
    "#   no correlation with sex and our target value. So in case we do not mind.\n",
    "diabetesX[:,0] = np.ones(diabetesX.shape[0])\n",
    "# From this we then compute the coefficient matrix in the normal equations (which is now 10 x 10)\n",
    "diabetesXTX = diabetesX.T @ diabetesX\n",
    "# Right hand side of the normal equations\n",
    "diabetesXTY = diabetesX.T @ diabetesY\n",
    "# Solve the normal equations\n",
    "diabetesBeta = np.linalg.solve(diabetesXTX, diabetesXTY)"
   ]
  },
  {
   "cell_type": "markdown",
   "metadata": {},
   "source": [
    "## Putting it all together\n",
    "We now put together all of the components into a pandas dataframe and use pandas functionality and our previously calcualted beta values to find the predicted values and can see them in comparison to the real Y values. Having it in a pandas df also would allow us to easily calcuate the MSE and other statistical calcuations around accuracy if we so desired."
   ]
  },
  {
   "cell_type": "code",
   "execution_count": 112,
   "metadata": {},
   "outputs": [
    {
     "data": {
      "text/html": [
       "<div>\n",
       "<style scoped>\n",
       "    .dataframe tbody tr th:only-of-type {\n",
       "        vertical-align: middle;\n",
       "    }\n",
       "\n",
       "    .dataframe tbody tr th {\n",
       "        vertical-align: top;\n",
       "    }\n",
       "\n",
       "    .dataframe thead th {\n",
       "        text-align: right;\n",
       "    }\n",
       "</style>\n",
       "<table border=\"1\" class=\"dataframe\">\n",
       "  <thead>\n",
       "    <tr style=\"text-align: right;\">\n",
       "      <th></th>\n",
       "      <th>0</th>\n",
       "      <th>1</th>\n",
       "      <th>2</th>\n",
       "      <th>3</th>\n",
       "      <th>4</th>\n",
       "      <th>5</th>\n",
       "      <th>6</th>\n",
       "      <th>7</th>\n",
       "      <th>8</th>\n",
       "      <th>9</th>\n",
       "      <th>realYValues</th>\n",
       "      <th>predictedYValues</th>\n",
       "    </tr>\n",
       "  </thead>\n",
       "  <tbody>\n",
       "    <tr>\n",
       "      <th>0</th>\n",
       "      <td>1.0</td>\n",
       "      <td>0.050680</td>\n",
       "      <td>0.061696</td>\n",
       "      <td>0.021872</td>\n",
       "      <td>-0.044223</td>\n",
       "      <td>-0.034821</td>\n",
       "      <td>-0.043401</td>\n",
       "      <td>-0.002592</td>\n",
       "      <td>0.019908</td>\n",
       "      <td>-0.017646</td>\n",
       "      <td>151.0</td>\n",
       "      <td>206.477690</td>\n",
       "    </tr>\n",
       "    <tr>\n",
       "      <th>1</th>\n",
       "      <td>1.0</td>\n",
       "      <td>-0.044642</td>\n",
       "      <td>-0.051474</td>\n",
       "      <td>-0.026328</td>\n",
       "      <td>-0.008449</td>\n",
       "      <td>-0.019163</td>\n",
       "      <td>0.074412</td>\n",
       "      <td>-0.039493</td>\n",
       "      <td>-0.068330</td>\n",
       "      <td>-0.092204</td>\n",
       "      <td>75.0</td>\n",
       "      <td>68.325985</td>\n",
       "    </tr>\n",
       "    <tr>\n",
       "      <th>2</th>\n",
       "      <td>1.0</td>\n",
       "      <td>0.050680</td>\n",
       "      <td>0.044451</td>\n",
       "      <td>-0.005671</td>\n",
       "      <td>-0.045599</td>\n",
       "      <td>-0.034194</td>\n",
       "      <td>-0.032356</td>\n",
       "      <td>-0.002592</td>\n",
       "      <td>0.002864</td>\n",
       "      <td>-0.025930</td>\n",
       "      <td>141.0</td>\n",
       "      <td>177.798162</td>\n",
       "    </tr>\n",
       "    <tr>\n",
       "      <th>3</th>\n",
       "      <td>1.0</td>\n",
       "      <td>-0.044642</td>\n",
       "      <td>-0.011595</td>\n",
       "      <td>-0.036656</td>\n",
       "      <td>0.012191</td>\n",
       "      <td>0.024991</td>\n",
       "      <td>-0.036038</td>\n",
       "      <td>0.034309</td>\n",
       "      <td>0.022692</td>\n",
       "      <td>-0.009362</td>\n",
       "      <td>206.0</td>\n",
       "      <td>166.138490</td>\n",
       "    </tr>\n",
       "    <tr>\n",
       "      <th>4</th>\n",
       "      <td>1.0</td>\n",
       "      <td>-0.044642</td>\n",
       "      <td>-0.036385</td>\n",
       "      <td>0.021872</td>\n",
       "      <td>0.003935</td>\n",
       "      <td>0.015596</td>\n",
       "      <td>0.008142</td>\n",
       "      <td>-0.002592</td>\n",
       "      <td>-0.031991</td>\n",
       "      <td>-0.046641</td>\n",
       "      <td>135.0</td>\n",
       "      <td>128.592054</td>\n",
       "    </tr>\n",
       "    <tr>\n",
       "      <th>...</th>\n",
       "      <td>...</td>\n",
       "      <td>...</td>\n",
       "      <td>...</td>\n",
       "      <td>...</td>\n",
       "      <td>...</td>\n",
       "      <td>...</td>\n",
       "      <td>...</td>\n",
       "      <td>...</td>\n",
       "      <td>...</td>\n",
       "      <td>...</td>\n",
       "      <td>...</td>\n",
       "      <td>...</td>\n",
       "    </tr>\n",
       "    <tr>\n",
       "      <th>437</th>\n",
       "      <td>1.0</td>\n",
       "      <td>0.050680</td>\n",
       "      <td>0.019662</td>\n",
       "      <td>0.059744</td>\n",
       "      <td>-0.005697</td>\n",
       "      <td>-0.002566</td>\n",
       "      <td>-0.028674</td>\n",
       "      <td>-0.002592</td>\n",
       "      <td>0.031193</td>\n",
       "      <td>0.007207</td>\n",
       "      <td>178.0</td>\n",
       "      <td>193.230846</td>\n",
       "    </tr>\n",
       "    <tr>\n",
       "      <th>438</th>\n",
       "      <td>1.0</td>\n",
       "      <td>0.050680</td>\n",
       "      <td>-0.015906</td>\n",
       "      <td>-0.067642</td>\n",
       "      <td>0.049341</td>\n",
       "      <td>0.079165</td>\n",
       "      <td>-0.028674</td>\n",
       "      <td>0.034309</td>\n",
       "      <td>-0.018118</td>\n",
       "      <td>0.044485</td>\n",
       "      <td>104.0</td>\n",
       "      <td>100.980006</td>\n",
       "    </tr>\n",
       "    <tr>\n",
       "      <th>439</th>\n",
       "      <td>1.0</td>\n",
       "      <td>0.050680</td>\n",
       "      <td>-0.015906</td>\n",
       "      <td>0.017282</td>\n",
       "      <td>-0.037344</td>\n",
       "      <td>-0.013840</td>\n",
       "      <td>-0.024993</td>\n",
       "      <td>-0.011080</td>\n",
       "      <td>-0.046879</td>\n",
       "      <td>0.015491</td>\n",
       "      <td>132.0</td>\n",
       "      <td>121.628192</td>\n",
       "    </tr>\n",
       "    <tr>\n",
       "      <th>440</th>\n",
       "      <td>1.0</td>\n",
       "      <td>-0.044642</td>\n",
       "      <td>0.039062</td>\n",
       "      <td>0.001215</td>\n",
       "      <td>0.016318</td>\n",
       "      <td>0.015283</td>\n",
       "      <td>-0.028674</td>\n",
       "      <td>0.026560</td>\n",
       "      <td>0.044528</td>\n",
       "      <td>-0.025930</td>\n",
       "      <td>220.0</td>\n",
       "      <td>211.441064</td>\n",
       "    </tr>\n",
       "    <tr>\n",
       "      <th>441</th>\n",
       "      <td>1.0</td>\n",
       "      <td>-0.044642</td>\n",
       "      <td>-0.073030</td>\n",
       "      <td>-0.081414</td>\n",
       "      <td>0.083740</td>\n",
       "      <td>0.027809</td>\n",
       "      <td>0.173816</td>\n",
       "      <td>-0.039493</td>\n",
       "      <td>-0.004220</td>\n",
       "      <td>0.003064</td>\n",
       "      <td>57.0</td>\n",
       "      <td>53.002031</td>\n",
       "    </tr>\n",
       "  </tbody>\n",
       "</table>\n",
       "<p>442 rows × 12 columns</p>\n",
       "</div>"
      ],
      "text/plain": [
       "       0         1         2         3         4         5         6  \\\n",
       "0    1.0  0.050680  0.061696  0.021872 -0.044223 -0.034821 -0.043401   \n",
       "1    1.0 -0.044642 -0.051474 -0.026328 -0.008449 -0.019163  0.074412   \n",
       "2    1.0  0.050680  0.044451 -0.005671 -0.045599 -0.034194 -0.032356   \n",
       "3    1.0 -0.044642 -0.011595 -0.036656  0.012191  0.024991 -0.036038   \n",
       "4    1.0 -0.044642 -0.036385  0.021872  0.003935  0.015596  0.008142   \n",
       "..   ...       ...       ...       ...       ...       ...       ...   \n",
       "437  1.0  0.050680  0.019662  0.059744 -0.005697 -0.002566 -0.028674   \n",
       "438  1.0  0.050680 -0.015906 -0.067642  0.049341  0.079165 -0.028674   \n",
       "439  1.0  0.050680 -0.015906  0.017282 -0.037344 -0.013840 -0.024993   \n",
       "440  1.0 -0.044642  0.039062  0.001215  0.016318  0.015283 -0.028674   \n",
       "441  1.0 -0.044642 -0.073030 -0.081414  0.083740  0.027809  0.173816   \n",
       "\n",
       "            7         8         9  realYValues  predictedYValues  \n",
       "0   -0.002592  0.019908 -0.017646        151.0        206.477690  \n",
       "1   -0.039493 -0.068330 -0.092204         75.0         68.325985  \n",
       "2   -0.002592  0.002864 -0.025930        141.0        177.798162  \n",
       "3    0.034309  0.022692 -0.009362        206.0        166.138490  \n",
       "4   -0.002592 -0.031991 -0.046641        135.0        128.592054  \n",
       "..        ...       ...       ...          ...               ...  \n",
       "437 -0.002592  0.031193  0.007207        178.0        193.230846  \n",
       "438  0.034309 -0.018118  0.044485        104.0        100.980006  \n",
       "439 -0.011080 -0.046879  0.015491        132.0        121.628192  \n",
       "440  0.026560  0.044528 -0.025930        220.0        211.441064  \n",
       "441 -0.039493 -0.004220  0.003064         57.0         53.002031  \n",
       "\n",
       "[442 rows x 12 columns]"
      ]
     },
     "execution_count": 112,
     "metadata": {},
     "output_type": "execute_result"
    }
   ],
   "source": [
    "linearRegressionTest = pd.DataFrame(diabetesX)\n",
    "linearRegressionTest['realYValues'] = diabetesY\n",
    "linearRegressionTest['predictedYValues'] = diabetesBeta[0] + diabetesBeta[1]*linearRegressionTest[1] + diabetesBeta[2]*linearRegressionTest[2]+ diabetesBeta[3]*linearRegressionTest[3]+ diabetesBeta[4]*linearRegressionTest[4]+ diabetesBeta[5]*linearRegressionTest[5]+ diabetesBeta[6]*linearRegressionTest[6]+ diabetesBeta[7]*linearRegressionTest[7]+ diabetesBeta[8]*linearRegressionTest[8]+ diabetesBeta[9]*linearRegressionTest[9]\n",
    "linearRegressionTest"
   ]
  },
  {
   "cell_type": "markdown",
   "metadata": {},
   "source": [
    "# Logistic regression"
   ]
  },
  {
   "cell_type": "markdown",
   "metadata": {},
   "source": [
    "## Math Notes\n",
    "\n",
    "`f(x_i)` = sigmoid **(** b0 + (b_1) x_i1 + (b_2) x_i2 + ... + (b_d) x_id **)**\n",
    "\n",
    "`Beta coefficients` -> [b1, b2, b3, ..., bn]\n",
    "\n",
    "Choose beta coefficients to minimize `average cross entropy value` (L(b)) -> 1/n sum l(y_i f(x_i))\n",
    "\n",
    "`Cross entropy loss function` -> l(y_i f(x_i)) \n",
    "\n",
    "...................................................................l_(p,q) = p log(q) - (1-p)_log(1-q)\n",
    "\n",
    "### Gradient Descent\n",
    "\n",
    "    1) Initial b^0 (first guess, random, all zeros)\n",
    "\n",
    "    2) For t = 1,2,....  B^(t+1) = B^t - alpha triangle-L (b^t)\n",
    "    \n",
    "    \n",
    "L_i'(B) = (sigmoid(X_i^hat^transpose) - y_i) X_i^hat^transpose\n",
    "    "
   ]
  },
  {
   "cell_type": "markdown",
   "metadata": {},
   "source": [
    "## Data Exploration and Data engineering\n",
    "\n",
    "Here we clean and vectorize what data we can, we also remove which ever columns we believe wont be helpful after we view the correletion matrix given by titanicTrainData.corr(). From this we are left with Pclass, Sex, SibSp, and Fare. We then also shape the data to allow for matrix opperations to be allowed"
   ]
  },
  {
   "cell_type": "code",
   "execution_count": 493,
   "metadata": {},
   "outputs": [],
   "source": [
    "def readInCleanAndShape(standardized):\n",
    "    titanicTestData = pd.read_csv('data/titanic_test.csv')\n",
    "    titanicTestData = titanicTestData[['Pclass', 'Sex', 'SibSp', 'Fare', 'Age']]\n",
    "    titanicTestData = titanicTestData.dropna()\n",
    "    titanicTestData['Sex'] = pd.get_dummies(titanicTestData['Sex'],drop_first=True)\n",
    "\n",
    "    titanicTrainData = pd.read_csv('data/titanic_train.csv')\n",
    "    titanicTrainData = titanicTrainData[['Survived', 'Pclass', 'Sex', 'SibSp', 'Fare', 'Age']]\n",
    "    titanicTrainData['Sex'] = pd.get_dummies(titanicTrainData['Sex'],drop_first=True)\n",
    "    titanicTrainData = titanicTrainData.dropna()\n",
    "\n",
    "\n",
    "    #Reshape data to allow for matrix opperations in numpy\n",
    "    XTitanicTrain = titanicTrainData.drop('Survived',axis=1)\n",
    "    yTitanicTrain = titanicTrainData['Survived']\n",
    "    \n",
    "    if standardized == True: \n",
    "        \n",
    "        x = titanicTestData.values #returns a numpy array\n",
    "        min_max_scaler = preprocessing.MinMaxScaler()\n",
    "        x_scaled = min_max_scaler.fit_transform(x)\n",
    "        titanicTestData = pd.DataFrame(x_scaled)\n",
    "        \n",
    "        \n",
    "        x = XTitanicTrain.values #returns a numpy array\n",
    "        min_max_scaler = preprocessing.MinMaxScaler()\n",
    "        x_scaled = min_max_scaler.fit_transform(x)\n",
    "        XTitanicTrain = pd.DataFrame(x_scaled)\n",
    "\n",
    "    XTitanicTrain = np.array(XTitanicTrain).T\n",
    "    yTitanicTrain = np.array(yTitanicTrain)\n",
    "    yTitanicTrain = yTitanicTrain.reshape(yTitanicTrain.shape[0], 1).T\n",
    "    titanicTestData = np.array(titanicTestData).T\n",
    "\n",
    "    return XTitanicTrain, yTitanicTrain, titanicTestData"
   ]
  },
  {
   "cell_type": "markdown",
   "metadata": {},
   "source": [
    "## Model, optimize through propagation and predict\n",
    "\n",
    "The function names say it all\n",
    "\n",
    "Code derived from similar project in David Guy Brizan's machine learning class"
   ]
  },
  {
   "cell_type": "code",
   "execution_count": 422,
   "metadata": {},
   "outputs": [],
   "source": [
    "#Simple sigmoid calculation\n",
    "def sigmoid(z):\n",
    "    return 1 / (1 + np.exp(-z))"
   ]
  },
  {
   "cell_type": "code",
   "execution_count": 423,
   "metadata": {},
   "outputs": [],
   "source": [
    "#Matrix initialization\n",
    "def initialize_with_zeros(dim):\n",
    "    #We initialize with zeros and the given dimension as a sort of 'random' first guess \n",
    "    #and then adjust from there through gradient descent\n",
    "    return np.zeros(shape=(dim, 1)), 0"
   ]
  },
  {
   "cell_type": "code",
   "execution_count": 424,
   "metadata": {},
   "outputs": [],
   "source": [
    "def propagate(weights, bias, data, labelVector):\n",
    "    dataShape = data.shape[1]\n",
    "    \n",
    "    # Forward-propagation\n",
    "    A = sigmoid(np.dot(weights.T, data) + bias)\n",
    "    \n",
    "    # numpy cost calculation\n",
    "    cost = (-1/dataShape) * np.sum(labelVector * np.log(A) + (1-labelVector) * np.log(1-A))\n",
    "        \n",
    "    # back-prop\n",
    "    weightGradientLoss = (1/dataShape) * np.dot(data,(A - labelVector).T)\n",
    "    biasGradientLoss = (1/dataShape) * np.sum(A-labelVector)\n",
    "    \n",
    "    gradients = {\"weightGradientLoss\": weightGradientLoss, \"biasGradientLoss\": biasGradientLoss}\n",
    "    \n",
    "    return gradients, cost"
   ]
  },
  {
   "cell_type": "code",
   "execution_count": 425,
   "metadata": {},
   "outputs": [],
   "source": [
    "def optimize(weightsArray, bias, data, labelVector, iterations, learning_rate):    \n",
    "    costs = [] \n",
    "    \n",
    "    for i in range(iterations):\n",
    "        \n",
    "        # Cost/gradient calculation\n",
    "        gradients, cost = propagate(weightsArray, bias, data, labelVector)\n",
    "        \n",
    "        # Derivatives from grads\n",
    "        weightGradientLoss = gradients[\"weightGradientLoss\"]\n",
    "        biasGradientLoss = gradients[\"biasGradientLoss\"]\n",
    "        \n",
    "        # update bias and weights\n",
    "        weightsArray = weightsArray - learning_rate * weightGradientLoss \n",
    "        bias = bias - learning_rate * biasGradientLoss\n",
    "        \n",
    "        # Record the cost\n",
    "        costs.append(cost)\n",
    "    \n",
    "    weightsAndBias = {\"weights\": weightsArray, \"bias\": bias}    \n",
    "    newGradients = {\"weightGradientLoss\": weightGradientLoss, \"biasGradientLoss\": biasGradientLoss}\n",
    "    \n",
    "    return weightsAndBias, newGradients, costs"
   ]
  },
  {
   "cell_type": "code",
   "execution_count": 429,
   "metadata": {},
   "outputs": [],
   "source": [
    "def predict(weights, bias, data):\n",
    "    size = data.shape[1]\n",
    "    Y_prediction = np.zeros((1, size))\n",
    "    weights = weights.reshape(data.shape[0], 1)\n",
    "    \n",
    "    # Predict the probabilities  \n",
    "    A = sigmoid(np.dot(weights.T, data) + bias)\n",
    "    \n",
    "    # If probability > .5 then 1 else 0\n",
    "    for i in range(A.shape[1]):\n",
    "        if A[0, i] >= 0.5:\n",
    "            Y_prediction[0, i] = 1\n",
    "        else:\n",
    "            Y_prediction[0, i] = 0\n",
    "        \n",
    "    return Y_prediction"
   ]
  },
  {
   "cell_type": "code",
   "execution_count": 483,
   "metadata": {},
   "outputs": [],
   "source": [
    "def model(XTrain, YTrain, XTest, iterations, learningRate):\n",
    "    weight, bias = initialize_with_zeros(XTrain.shape[0])\n",
    "\n",
    "    # Gradient descent\n",
    "    parameters, grads, costs = optimize(weight, bias, XTrain, YTrain, iterations, learningRate)\n",
    "    \n",
    "    # Retrieve parameters weight and bbias from dictionary \"parameters\"\n",
    "    weight = parameters[\"weights\"]\n",
    "    bias = parameters[\"bias\"]\n",
    "    \n",
    "    # Predict test/train set examples\n",
    "    YTrainPrediction = predict(weight, bias, XTrain)\n",
    "    YTestPrediction = predict(weight, bias, XTest)\n",
    "    \n",
    "    print(\"train accuracy: {} %\".format(100 - np.mean(np.abs(YTrainPrediction - YTrain)) * 100))\n",
    "    \n",
    "    predictionVSActual = {\"YTrainPrediction\" : YTrainPrediction[0], \"YTrainActual\": YTrain[0]}\n",
    "    returnFrame = pd.DataFrame.from_dict(predictionVSActual)\n",
    "    \n",
    "    return returnFrame, YTestPrediction, costs"
   ]
  },
  {
   "cell_type": "markdown",
   "metadata": {},
   "source": [
    "##  Plot of objective function vs iteration \n",
    "For both the training dataset and the validation dataset"
   ]
  },
  {
   "cell_type": "markdown",
   "metadata": {},
   "source": [
    "# Plotting Different learning rates Standardized vs NonStandardized\n",
    "\n",
    "Plotting 4 different learning rates, it would seem as though the learning rate of 0.0025 converges the fastest. Though interestingly, the training prediction accuracy drops as the learning rate rises, so though it may converge faster, the higher learning rate is the most accurate.\n",
    "\n",
    "Also looking to whether the data is standardized or non-standardized we first see a drop in the accuracy, following that we see a stark difference in the change in convergence. For standardized we see that the lowest learning rate converges the fastest."
   ]
  },
  {
   "cell_type": "code",
   "execution_count": 494,
   "metadata": {},
   "outputs": [
    {
     "name": "stdout",
     "output_type": "stream",
     "text": [
      "train accuracy: 78.71148459383754 %\n",
      "train accuracy: 78.29131652661064 %\n",
      "train accuracy: 78.01120448179272 %\n",
      "train accuracy: 70.44817927170868 %\n"
     ]
    },
    {
     "data": {
      "image/png": "[encoded data removed]",
      "text/plain": [
       "<Figure size 432x288 with 4 Axes>"
      ]
     },
     "metadata": {
      "needs_background": "light"
     },
     "output_type": "display_data"
    }
   ],
   "source": [
    "#Standardized\n",
    "data = readInCleanAndShape(True)\n",
    "learningRates = [0.005, 0.0025, 0.001, 0.0001]\n",
    "fig, axs = plt.subplots(4, sharex=True, sharey=True)\n",
    "fig.suptitle('Differing learning rates')\n",
    "num = 0\n",
    "for rate in learningRates:\n",
    "    d, e, cost = model(data[0], data[1], data[2], 70000, rate)\n",
    "    axs[num].plot(cost)\n",
    "    num +=1"
   ]
  },
  {
   "cell_type": "code",
   "execution_count": 495,
   "metadata": {},
   "outputs": [
    {
     "name": "stdout",
     "output_type": "stream",
     "text": [
      "train accuracy: 80.812324929972 %\n",
      "train accuracy: 78.29131652661064 %\n",
      "train accuracy: 78.57142857142857 %\n",
      "train accuracy: 70.16806722689076 %\n"
     ]
    },
    {
     "data": {
      "image/png": "[encoded data removed]",
      "text/plain": [
       "<Figure size 432x288 with 4 Axes>"
      ]
     },
     "metadata": {
      "needs_background": "light"
     },
     "output_type": "display_data"
    }
   ],
   "source": [
    "#Non-Standardized\n",
    "data = readInCleanAndShape(False)\n",
    "learningRates = [0.005, 0.0025, 0.001, 0.0001]\n",
    "fig, axs = plt.subplots(4, sharex=True, sharey=True)\n",
    "fig.suptitle('Differing learning rates')\n",
    "num = 0\n",
    "for rate in learningRates:\n",
    "    d, e, cost = model(data[0], data[1], data[2], 70000, rate)\n",
    "    axs[num].plot(cost)\n",
    "    num +=1"
   ]
  },
  {
   "cell_type": "markdown",
   "metadata": {},
   "source": [
    "# Kaggle Submission\n",
    "\n",
    "Following some manipulation of the output data and submission to the Titanic Kaggle competition, this algorithm recieved a score of 0.72248. Though this is lower that the training accuracy, it would be by a normal standard a C. And as they say you can't spell success without a couple of C's and C's get degrees!"
   ]
  },
  {
   "cell_type": "code",
   "execution_count": null,
   "metadata": {},
   "outputs": [],
   "source": []
  }
 ],
 "metadata": {
  "kernelspec": {
   "display_name": "Python 3",
   "language": "python",
   "name": "python3"
  },
  "language_info": {
   "codemirror_mode": {
    "name": "ipython",
    "version": 3
   },
   "file_extension": ".py",
   "mimetype": "text/x-python",
   "name": "python",
   "nbconvert_exporter": "python",
   "pygments_lexer": "ipython3",
   "version": "3.8.5"
  }
 },
 "nbformat": 4,
 "nbformat_minor": 4
}
